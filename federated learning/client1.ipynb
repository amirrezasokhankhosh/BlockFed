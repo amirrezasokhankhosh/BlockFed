{
 "cells": [
  {
   "cell_type": "code",
   "execution_count": 1,
   "metadata": {},
   "outputs": [],
   "source": [
    "import numpy as np\n",
    "import tensorflow as tf\n",
    "import req\n",
    "import time\n"
   ]
  },
  {
   "cell_type": "code",
   "execution_count": 2,
   "metadata": {},
   "outputs": [],
   "source": [
    "class Client():\n",
    "    def __init__(self, name, X, y, learning_rate):\n",
    "        self.name = name\n",
    "        self.X = tf.constant(X)\n",
    "        self.y = tf.constant(y)\n",
    "        self.W = tf.Variable(np.zeros((2, 1)))\n",
    "        self.b = tf.Variable(0, dtype=tf.double)\n",
    "        self.round = 0\n",
    "        self.epochs = 100\n",
    "        self.learning_rate = learning_rate\n",
    "    \n",
    "    def check_trian(self):\n",
    "        curr_r = req.get_round()\n",
    "        if curr_r > self.round:\n",
    "            self.round = curr_r\n",
    "            self.update_local_model()\n",
    "            self.train()\n",
    "            self.send_local_model()\n",
    "            print(\"Trained global model.\")\n",
    "        else:\n",
    "            print(\"Round is stil going on.\")\n",
    "    \n",
    "    def update_local_model(self):\n",
    "        global_p = req.get_pre_global()\n",
    "        W, b = global_p['W'], global_p['b']\n",
    "        self.W = tf.Variable(np.array(W).reshape((2, 1)))\n",
    "        self.b = tf.Variable(b, dtype=tf.double)\n",
    "\n",
    "    def train(self):\n",
    "        for _ in range(self.epochs):\n",
    "            with tf.GradientTape() as tape:\n",
    "                tape.watch([self.W, self.b])\n",
    "                phi = self.X @ self.W + self.b\n",
    "                pred = tf.keras.activations.sigmoid(phi)\n",
    "                loss = tf.keras.losses.binary_crossentropy(self.y, pred, axis=0)\n",
    "\n",
    "            grad = tape.gradient(loss, {\n",
    "                \"W\" : self.W,\n",
    "                \"b\" : self.b\n",
    "            })\n",
    "            self.W = self.W - self.learning_rate * grad['W']\n",
    "            self.b = self.b - self.learning_rate * grad['b']\n",
    "        print(loss.numpy()[0])\n",
    "    \n",
    "    def convert_params(self):\n",
    "        W_temp = self.W.numpy().tolist()\n",
    "        W = [w[0] for w in W_temp]\n",
    "        b = self.b.numpy().tolist()\n",
    "        return W, b\n",
    "    \n",
    "    def send_local_model(self):\n",
    "        param_id = \"local_\" + str(self.round) + \"_\" + self.name\n",
    "        W, b = self.convert_params()\n",
    "        req.post_param(param_id, W, b)\n",
    "            \n",
    "        "
   ]
  },
  {
   "cell_type": "code",
   "execution_count": 3,
   "metadata": {},
   "outputs": [],
   "source": [
    "data = np.load('./data2d.npz')\n",
    "X, y = data['X'], data['y']"
   ]
  },
  {
   "cell_type": "code",
   "execution_count": 4,
   "metadata": {},
   "outputs": [
    {
     "name": "stdout",
     "output_type": "stream",
     "text": [
      "Metal device set to: Apple M1 Pro\n",
      "\n",
      "systemMemory: 16.00 GB\n",
      "maxCacheSize: 5.33 GB\n",
      "\n"
     ]
    },
    {
     "name": "stderr",
     "output_type": "stream",
     "text": [
      "2023-11-23 15:51:39.856127: I tensorflow/core/common_runtime/pluggable_device/pluggable_device_factory.cc:306] Could not identify NUMA node of platform GPU ID 0, defaulting to 0. Your kernel may not have been built with NUMA support.\n",
      "2023-11-23 15:51:39.856621: I tensorflow/core/common_runtime/pluggable_device/pluggable_device_factory.cc:272] Created TensorFlow device (/job:localhost/replica:0/task:0/device:GPU:0 with 0 MB memory) -> physical PluggableDevice (device: 0, name: METAL, pci bus id: <undefined>)\n"
     ]
    }
   ],
   "source": [
    "client_1 = Client(\"1\", X[:len(X)//2], y[:len(X)//2].reshape((35, 1)), 1e-2)"
   ]
  },
  {
   "cell_type": "code",
   "execution_count": 5,
   "metadata": {},
   "outputs": [
    {
     "name": "stdout",
     "output_type": "stream",
     "text": [
      "0.22356791057917025\n",
      "Trained global model.\n"
     ]
    }
   ],
   "source": [
    "client_1.check_trian()"
   ]
  },
  {
   "cell_type": "code",
   "execution_count": 6,
   "metadata": {},
   "outputs": [
    {
     "name": "stdout",
     "output_type": "stream",
     "text": [
      "0.15092891155227667\n",
      "Trained global model.\n",
      "Round is stil going on.\n",
      "0.11562703108504209\n",
      "Trained global model.\n",
      "Round is stil going on.\n",
      "0.09555254859231463\n",
      "Trained global model.\n",
      "0.08236076460241712\n",
      "Trained global model.\n",
      "Round is stil going on.\n",
      "0.0729509349016698\n",
      "Trained global model.\n",
      "Round is stil going on.\n",
      "0.06585608583166547\n",
      "Trained global model.\n",
      "0.060288499929816365\n",
      "Trained global model.\n",
      "Round is stil going on.\n",
      "0.05578551888109767\n",
      "Trained global model.\n",
      "Round is stil going on.\n",
      "0.05205667119889489\n",
      "Trained global model.\n",
      "0.04890990117056358\n",
      "Trained global model.\n",
      "Round is stil going on.\n",
      "0.046212854412413136\n",
      "Trained global model.\n",
      "Round is stil going on.\n",
      "0.043871173122425125\n",
      "Trained global model.\n",
      "0.04181565798587883\n",
      "Trained global model.\n",
      "Round is stil going on.\n",
      "0.03999432992610858\n",
      "Trained global model.\n",
      "Round is stil going on.\n",
      "0.03836733442276629\n",
      "Trained global model.\n",
      "0.03690356415107003\n",
      "Trained global model.\n",
      "Round is stil going on.\n",
      "0.035578357662739625\n",
      "Trained global model.\n",
      "Round is stil going on.\n",
      "0.03437189287139987\n",
      "Trained global model.\n",
      "0.0332680413909268\n",
      "Trained global model.\n",
      "Round is stil going on.\n",
      "0.03225353589601922\n",
      "Trained global model.\n",
      "Round is stil going on.\n",
      "0.031317354638950634\n",
      "Trained global model.\n",
      "0.030450259499216013\n",
      "Trained global model.\n",
      "Round is stil going on.\n",
      "0.02964444445436857\n",
      "Trained global model.\n",
      "Round is stil going on.\n",
      "0.02889326470546719\n",
      "Trained global model.\n",
      "0.02819102555139049\n",
      "Trained global model.\n",
      "Round is stil going on.\n",
      "0.027532816099396618\n",
      "Trained global model.\n",
      "Round is stil going on.\n",
      "0.026914377021847565\n",
      "Trained global model.\n",
      "0.02633199444905359\n",
      "Trained global model.\n",
      "Round is stil going on.\n",
      "0.02578241412908642\n",
      "Trained global model.\n",
      "Round is stil going on.\n",
      "0.02526277145082352\n",
      "Trained global model.\n",
      "0.02477053399157552\n",
      "Trained global model.\n",
      "Round is stil going on.\n",
      "0.024303454033614474\n",
      "Trained global model.\n",
      "Round is stil going on.\n",
      "0.023859529075584137\n",
      "Trained global model.\n",
      "0.023436968801164762\n",
      "Trained global model.\n",
      "Round is stil going on.\n",
      "0.023034167297814878\n",
      "Trained global model.\n",
      "Round is stil going on.\n",
      "0.022649679570791018\n",
      "Trained global model.\n",
      "0.022282201591994108\n",
      "Trained global model.\n",
      "Round is stil going on.\n",
      "0.021930553273980954\n",
      "Trained global model.\n",
      "Round is stil going on.\n",
      "0.021593663877337892\n",
      "Trained global model.\n",
      "0.021270559452350353\n",
      "Trained global model.\n",
      "Round is stil going on.\n",
      "0.02096035198935279\n",
      "Trained global model.\n",
      "Round is stil going on.\n",
      "0.020662230010670794\n",
      "Trained global model.\n",
      "0.020375450383978123\n",
      "Trained global model.\n",
      "Round is stil going on.\n",
      "0.020099331174696533\n",
      "Trained global model.\n",
      "Round is stil going on.\n",
      "0.019833245385695066\n",
      "Trained global model.\n",
      "0.019576615457485614\n",
      "Trained global model.\n",
      "Round is stil going on.\n",
      "0.019328908422514467\n",
      "Trained global model.\n",
      "Round is stil going on.\n",
      "0.01908963162391565\n",
      "Trained global model.\n",
      "0.018858328922937855\n",
      "Trained global model.\n",
      "Round is stil going on.\n",
      "0.018634577330722626\n",
      "Trained global model.\n",
      "Round is stil going on.\n",
      "0.018417984009666884\n",
      "Trained global model.\n",
      "0.018208183597571644\n",
      "Trained global model.\n",
      "Round is stil going on.\n"
     ]
    },
    {
     "ename": "KeyboardInterrupt",
     "evalue": "",
     "output_type": "error",
     "traceback": [
      "\u001b[0;31m---------------------------------------------------------------------------\u001b[0m",
      "\u001b[0;31mKeyboardInterrupt\u001b[0m                         Traceback (most recent call last)",
      "\u001b[1;32m/Users/amirrezasokhankhosh/Documents/Workstation/BlockFed/federated learning/client1.ipynb Cell 6\u001b[0m line \u001b[0;36m2\n\u001b[1;32m      <a href='vscode-notebook-cell:/Users/amirrezasokhankhosh/Documents/Workstation/BlockFed/federated%20learning/client1.ipynb#W5sZmlsZQ%3D%3D?line=0'>1</a>\u001b[0m \u001b[39mfor\u001b[39;00m _ \u001b[39min\u001b[39;00m \u001b[39mrange\u001b[39m(\u001b[39m100\u001b[39m):\n\u001b[0;32m----> <a href='vscode-notebook-cell:/Users/amirrezasokhankhosh/Documents/Workstation/BlockFed/federated%20learning/client1.ipynb#W5sZmlsZQ%3D%3D?line=1'>2</a>\u001b[0m     time\u001b[39m.\u001b[39;49msleep(\u001b[39m3\u001b[39;49m)\n\u001b[1;32m      <a href='vscode-notebook-cell:/Users/amirrezasokhankhosh/Documents/Workstation/BlockFed/federated%20learning/client1.ipynb#W5sZmlsZQ%3D%3D?line=2'>3</a>\u001b[0m     client_1\u001b[39m.\u001b[39mcheck_trian()\n",
      "\u001b[0;31mKeyboardInterrupt\u001b[0m: "
     ]
    }
   ],
   "source": [
    "for _ in range(100):\n",
    "    time.sleep(3)\n",
    "    client_1.check_trian()\n",
    "    "
   ]
  },
  {
   "cell_type": "code",
   "execution_count": null,
   "metadata": {},
   "outputs": [
    {
     "data": {
      "text/plain": [
       "1"
      ]
     },
     "execution_count": 75,
     "metadata": {},
     "output_type": "execute_result"
    }
   ],
   "source": [
    "req.get_round()"
   ]
  }
 ],
 "metadata": {
  "kernelspec": {
   "display_name": "data-science",
   "language": "python",
   "name": "python3"
  },
  "language_info": {
   "codemirror_mode": {
    "name": "ipython",
    "version": 3
   },
   "file_extension": ".py",
   "mimetype": "text/x-python",
   "name": "python",
   "nbconvert_exporter": "python",
   "pygments_lexer": "ipython3",
   "version": "3.10.6"
  }
 },
 "nbformat": 4,
 "nbformat_minor": 2
}
